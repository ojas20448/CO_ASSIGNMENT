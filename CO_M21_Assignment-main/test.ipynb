{
 "cells": [
  {
   "cell_type": "code",
   "execution_count": null,
   "metadata": {},
   "outputs": [],
   "source": []
  },
  {
   "cell_type": "code",
   "execution_count": 1,
   "metadata": {},
   "outputs": [],
   "source": [
    "def EvTypeA(instruction,typeA):\n",
    "    index = list(typeA).index(instruction[0])\n",
    "    opCodes = ['00000','00001','00110','01010','01011','01100']\n",
    "    opcode = opCodes[index]\n",
    "    if(len(instruction)!=4):\n",
    "        print(\"INVALID SYNTAX for\",instruction[0],\"evaluation.\")\n",
    "        return \"\"\n",
    "    reg1 = instruction[1]\n",
    "    reg2 = instruction[2]\n",
    "    reg3 = instruction[3]\n",
    "    registers123 = [reg1,reg2,reg3]\n",
    "    # print(registers123)\n",
    "    i=1\n",
    "    for i in range(0,3):\n",
    "        if registers123[i][0] != \"R\":\n",
    "            # print(register)\n",
    "            print(\"INVALID SYNTAX, registers wrongly given\")\n",
    "            return \"\"   \n",
    "        elif int(registers123[i][1])>=0 and int(registers123[i][1])<=6:\n",
    "            s = bin(int(registers123[i][1]))\n",
    "            registers123[i]=s[2:]\n",
    "        i+=1    \n",
    "    binaryEncoding = opcode+\"00\"+registers123[0]+registers123[1]+registers123[2]                         \n",
    "    return binaryEncoding        \n",
    "\n",
    "\n"
   ]
  },
  {
   "cell_type": "code",
   "execution_count": 2,
   "metadata": {},
   "outputs": [],
   "source": [
    "def EvTypeB(instruction,typeB):\n",
    "    opcodes=['01000','01001']\n",
    "    index = list(typeB).index(instruction[0])\n",
    "    opcode = instruction[index]\n",
    "    register = instruction[1]\n",
    "    try:\n",
    "        s = bin(int(register[1]))\n",
    "    except:\n",
    "        print(\"invalid register given\")\n",
    "        return    \n",
    "    register = s[2:]\n",
    "    \n",
    "    val = instruction[2]\n",
    "    if(val[0]!='$'):\n",
    "        print(\"$ sign was not used to initiate the immediate value\")\n",
    "        return\n",
    "    try:\n",
    "        val = int(val[1:])\n",
    "        imm =bin(val)[2:]\n",
    "    except:\n",
    "        print(\"Syntax error Invalid immediate value given\")\n",
    "        return    \n",
    "    binaryEncoding = opcode+register+imm\n",
    "    return binaryEncoding\n"
   ]
  },
  {
   "cell_type": "code",
   "execution_count": 3,
   "metadata": {},
   "outputs": [],
   "source": [
    "def EvTypeC(instruction,typeC):\n",
    "    if(len(instruction)!=3):\n",
    "        print(\"invalid Syntax\")\n",
    "        return\n",
    "    index = list(typeC).index(instruction[0])\n",
    "    opcodes=['00111','01101','01110']\n",
    "    opcode = opcodes[index]\n",
    "    registers12 = [instruction[1],instruction[2]]\n",
    "    for i in range(0,2):\n",
    "        try:\n",
    "            registers12[i]= bin(int(registers12[i]))[2:]\n",
    "        except:\n",
    "            print(\"Invalid registers used return\")\n",
    "            return\n",
    "    binaryEncoding=opcode+\"00000\"+registers12[0]+registers12[1]\n",
    "    return binaryEncoding        \n"
   ]
  },
  {
   "cell_type": "code",
   "execution_count": 4,
   "metadata": {},
   "outputs": [],
   "source": [
    "def EvTypeD(instruction,typeD,variables):\n",
    "    if(len(instruction)!=3):\n",
    "        print(\"invalid Syntax\")\n",
    "        return\n",
    "    index = list(typeD).index(instruction[0])\n",
    "    opcodes=['00100','00101']\n",
    "    opcode = opcodes[index]\n",
    "    register = instruction[1]\n",
    "    try:\n",
    "        s = bin(int(register[1]))\n",
    "    except:\n",
    "        print(\"invalid register given\")\n",
    "        return    \n",
    "    register = s[2:]\n",
    "    memr_add = bin(int(variables[instruction[2]]))[2:]\n",
    "    while(len(memr_add)!=8):\n",
    "        memr_add = '0'+memr_add\n",
    "    binaryEncoding=opcode+register+memr_add\n",
    "    return binaryEncoding\n",
    "    \n",
    "\n",
    "    "
   ]
  },
  {
   "cell_type": "code",
   "execution_count": 5,
   "metadata": {},
   "outputs": [],
   "source": [
    "def EvTypeE(instruction,typeE,labels):\n",
    "    if(len(instruction)!=2):\n",
    "        print(\"invalid Syntax\")\n",
    "        return\n",
    "    index = list(typeE).index(instruction[0])\n",
    "    opcodes=['01111','10000','10001','10010']\n",
    "    opcode = opcodes[index]\n",
    "    memr_add = bin(int(labels[instruction[2]]))[2:]\n",
    "    while(len(memr_add)!=8):\n",
    "        memr_add = '0'+memr_add\n",
    "    binaryEncoding=opcode+'000'+memr_add\n",
    "    return binaryEncoding\n",
    "    "
   ]
  },
  {
   "cell_type": "code",
   "execution_count": 6,
   "metadata": {},
   "outputs": [],
   "source": [
    "def EvTypeF(instruction):\n",
    "    if(len(instruction)!=1):\n",
    "        print(\"Invalid syntax\")\n",
    "        return\n",
    "    opcode='10011'    \n",
    "    binaryEncoding=opcode+'00000000000'\n",
    "    return binaryEncoding"
   ]
  },
  {
   "cell_type": "code",
   "execution_count": 7,
   "metadata": {},
   "outputs": [],
   "source": [
    "def EvTypeBorC(instruction):\n",
    "    if str(instruction[2]).startswith('$'):\n",
    "        #it means its move immediate\n",
    "        opcode='00010'\n",
    "        register = instruction[1]\n",
    "        try:\n",
    "            s = bin(int(register[1]))\n",
    "        except:\n",
    "            print(\"invalid register given\")\n",
    "            return    \n",
    "        register = s[2:]\n",
    "        \n",
    "        val = instruction[2]\n",
    "        if(val[0]!='$'):\n",
    "            print(\"$ sign was not used to initiate the immediate value\")\n",
    "            return\n",
    "        try:\n",
    "            val = int(val[1:])\n",
    "            imm =bin(val)[2:]\n",
    "        except:\n",
    "            print(\"Syntax error Invalid immediate value given\")\n",
    "            return    \n",
    "        binaryEncoding = opcode+register+imm\n",
    "        return binaryEncoding\n",
    "    else:\n",
    "        #it is move register type c\n",
    "        opcode='00011'\n",
    "        registers12 = [instruction[1],instruction[2]]\n",
    "        for i in range(0,2):\n",
    "            try:\n",
    "                registers12[i]= bin(int(registers12[i]))[2:]\n",
    "            except:\n",
    "                print(\"Invalid registers used return\")\n",
    "                return\n",
    "        binaryEncoding=opcode+\"00000\"+registers12[0]+registers12[1]\n",
    "        return binaryEncoding        \n",
    "\n",
    "            "
   ]
  },
  {
   "cell_type": "code",
   "execution_count": 8,
   "metadata": {},
   "outputs": [],
   "source": [
    "def assembler(command,variables,labels,isStarted):\n",
    "    command = list(command)\n",
    "    \n",
    "    output_encoding = \"\"\n",
    "    \n",
    "    typeA = ['add','sub','mul','xor','or','and']\n",
    "    typeB = ['rs','ls']\n",
    "    typeC = ['not','cmp','div']\n",
    "    typeD = ['ld','st']\n",
    "    typeE = ['jmp','jlt','jgt','je']\n",
    "    typeF =['hlt']\n",
    "    typeBorC = ['mov']\n",
    "    if command[0] == 'var':\n",
    "        if(len(command)!=2):\n",
    "            print(\"Error: Invalid Syntax, illegal declaretion of variable\")\n",
    "            return \"\"\n",
    "        if(isStarted==False):\n",
    "            variables[command[1]] = len(variables)+1\n",
    "            output_encoding=bin(int(variables[command[1]]))[2:]\n",
    "            return \"\"\n",
    "        else:\n",
    "            \n",
    "            print(\"Error:invalid Syntax, illegal declaretion of variable\") \n",
    "            return \"\" \n",
    "    if str(command[0]).endswith(':') and command[0][-1]!=' ':\n",
    "        # labels\n",
    "        if(len(command)<2):\n",
    "            print(\"Error: Invalid Syntax, illegal declaretion of variable\")\n",
    "            return \"\"\n",
    "        labels[command[0]]=len(labels)+1        \n",
    "        command.pop(0)\n",
    "    else: \n",
    "        isStarted=True        \n",
    "    if command[0] in typeA:\n",
    "        output_encoding=(EvTypeA(command,typeA))\n",
    "    elif command[0] in typeB:\n",
    "        output_encoding=(EvTypeB(command,typeB))\n",
    "    elif command[0] in typeC:\n",
    "        output_encoding=(EvTypeC(command,typeC))\n",
    "    elif command[0] in typeD:\n",
    "        output_encoding=(EvTypeD(command,typeD,variables))\n",
    "    elif command[0] in typeE:\n",
    "        output_encoding=(EvTypeE(command,typeE,labels))\n",
    "    elif command[0] in typeF:\n",
    "        output_encoding=(EvTypeF(command))\n",
    "    elif command[0] in typeBorC:\n",
    "        output_encoding=EvTypeBorC(command)\n",
    "    else:\n",
    "        print(\"Invalid instruction was given\")\n",
    "        return \"\"\n",
    "    return output_encoding    \n",
    "    \n",
    "\n"
   ]
  },
  {
   "cell_type": "code",
   "execution_count": 9,
   "metadata": {},
   "outputs": [
    {
     "name": "stdout",
     "output_type": "stream",
     "text": [
      "hlt not being used as the last instruction\n",
      "INVALID SYNTAX for add evaluation.\n",
      "INVALID SYNTAX for add evaluation.\n",
      "INVALID SYNTAX for add evaluation.\n",
      "INVALID SYNTAX for add evaluation.\n",
      "INVALID SYNTAX for add evaluation.\n",
      "INVALID SYNTAX for add evaluation.\n",
      "Invalid instruction was given\n",
      "Error: Invalid Syntax, illegal declaretion of variable\n",
      "INVALID SYNTAX for add evaluation.\n",
      "INVALID SYNTAX for add evaluation.\n",
      "Invalid instruction was given\n",
      "Invalid instruction was given\n",
      "Invalid instruction was given\n",
      "Invalid instruction was given\n",
      "Error: Invalid Syntax, illegal declaretion of variable\n",
      "Error: Invalid Syntax, illegal declaretion of variable\n",
      "Invalid instruction was given\n",
      "Invalid instruction was given\n",
      "INVALID SYNTAX for add evaluation.\n",
      "INVALID SYNTAX for add evaluation.\n",
      "INVALID SYNTAX for add evaluation.\n",
      "Error: Invalid Syntax, illegal declaretion of variable\n",
      "00000000110\n",
      "00000000110\n",
      "\n"
     ]
    }
   ],
   "source": [
    "file = open(\"automatedTesting/tests/assembly/errorGen/test1\",\"r\")\n",
    "commands = file.readlines()\n",
    "if commands[-1]!='hlt':\n",
    "    # print(\"hlt not being used as the last instruction\")\n",
    "    print(\"hlt not being used as the last instruction\")\n",
    "variables={} \n",
    "labels = {} \n",
    "output_encoding=\"\"\n",
    "for line in commands:\n",
    "    line=line[:-1]\n",
    "    c = line.split(\" \")\n",
    "\n",
    "    while (c[0]==\" \"):\n",
    "        c.pop(0)\n",
    "\n",
    "    # print(c)\n",
    "    isStarted=False\n",
    "    temp = assembler(c,variables,labels,isStarted)\n",
    "    if temp != \"\":\n",
    "        output_encoding+=(temp)+'\\n'\n",
    "    if len(c)==1 and c[0]=='hlt':\n",
    "        break\n",
    "print(output_encoding)\n"
   ]
  },
  {
   "cell_type": "code",
   "execution_count": 33,
   "metadata": {},
   "outputs": [
    {
     "data": {
      "text/plain": [
       "'101'"
      ]
     },
     "execution_count": 33,
     "metadata": {},
     "output_type": "execute_result"
    }
   ],
   "source": [
    "bin(5)[2:]"
   ]
  },
  {
   "cell_type": "code",
   "execution_count": 30,
   "metadata": {},
   "outputs": [
    {
     "data": {
      "text/plain": [
       "'1'"
      ]
     },
     "execution_count": 30,
     "metadata": {},
     "output_type": "execute_result"
    }
   ],
   "source": [
    "str(1)"
   ]
  },
  {
   "cell_type": "code",
   "execution_count": 31,
   "metadata": {},
   "outputs": [
    {
     "data": {
      "text/plain": [
       "1"
      ]
     },
     "execution_count": 31,
     "metadata": {},
     "output_type": "execute_result"
    }
   ],
   "source": [
    "int(\"1\")"
   ]
  },
  {
   "cell_type": "code",
   "execution_count": null,
   "metadata": {},
   "outputs": [],
   "source": []
  }
 ],
 "metadata": {
  "interpreter": {
   "hash": "e7370f93d1d0cde622a1f8e1c04877d8463912d04d973331ad4851f04de6915a"
  },
  "kernelspec": {
   "display_name": "Python 3.9.6 64-bit",
   "name": "python3"
  },
  "language_info": {
   "codemirror_mode": {
    "name": "ipython",
    "version": 3
   },
   "file_extension": ".py",
   "mimetype": "text/x-python",
   "name": "python",
   "nbconvert_exporter": "python",
   "pygments_lexer": "ipython3",
   "version": "3.9.6"
  },
  "orig_nbformat": 4
 },
 "nbformat": 4,
 "nbformat_minor": 2
}